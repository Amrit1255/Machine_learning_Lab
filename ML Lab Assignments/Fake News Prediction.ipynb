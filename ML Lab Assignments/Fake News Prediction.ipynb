{
  "cells": [
    {
      "cell_type": "markdown",
      "source": [
        "Create / collect a data set on fake news in your mother tongue. Using this data set train a suitable classifier to detect fake news"
      ],
      "metadata": {
        "id": "55aESXW2ItGW"
      }
    },
    {
      "cell_type": "code",
      "source": [
        "import pandas as pd\n",
        "import numpy as np\n",
        "from sklearn.feature_extraction.text import CountVectorizer\n",
        "from sklearn.model_selection import train_test_split\n",
        "from sklearn.naive_bayes import MultinomialNB"
      ],
      "metadata": {
        "id": "Flj_VTM9K9qj"
      },
      "execution_count": 23,
      "outputs": []
    },
    {
      "cell_type": "code",
      "source": [
        "data = pd.read_csv(\"fake_or_real_news.csv\")\n",
        "print(data.head())"
      ],
      "metadata": {
        "id": "IqVkeUKlK-X4",
        "outputId": "9d45a31a-564c-4cde-eab6-b3ab2d51db41",
        "colab": {
          "base_uri": "https://localhost:8080/"
        }
      },
      "execution_count": 24,
      "outputs": [
        {
          "output_type": "stream",
          "name": "stdout",
          "text": [
            "   Unnamed: 0                                              title  \\\n",
            "0        8476                       You Can Smell Hillary’s Fear   \n",
            "1       10294  Watch The Exact Moment Paul Ryan Committed Pol...   \n",
            "2        3608        Kerry to go to Paris in gesture of sympathy   \n",
            "3       10142  Bernie supporters on Twitter erupt in anger ag...   \n",
            "4         875   The Battle of New York: Why This Primary Matters   \n",
            "\n",
            "                                                text label  \n",
            "0  Daniel Greenfield, a Shillman Journalism Fello...  FAKE  \n",
            "1  Google Pinterest Digg Linkedin Reddit Stumbleu...  FAKE  \n",
            "2  U.S. Secretary of State John F. Kerry said Mon...  REAL  \n",
            "3  — Kaydee King (@KaydeeKing) November 9, 2016 T...  FAKE  \n",
            "4  It's primary day in New York and front-runners...  REAL  \n"
          ]
        }
      ]
    },
    {
      "cell_type": "code",
      "source": [
        "x = np.array(data[\"title\"])\n",
        "y = np.array(data[\"label\"])\n",
        "\n",
        "cv = CountVectorizer()\n",
        "x = cv.fit_transform(x)"
      ],
      "metadata": {
        "id": "9pHnajoBK-Vj"
      },
      "execution_count": 25,
      "outputs": []
    },
    {
      "cell_type": "code",
      "source": [
        "xtrain, xtest, ytrain, ytest = train_test_split(x, y, test_size=0.2, random_state=42)\n",
        "model = MultinomialNB()\n",
        "model.fit(xtrain, ytrain)\n",
        "print(model.score(xtest, ytest))"
      ],
      "metadata": {
        "id": "APKFNMpgK-TN",
        "outputId": "6813c519-14a1-4ffb-a4c2-3e1bad00f398",
        "colab": {
          "base_uri": "https://localhost:8080/"
        }
      },
      "execution_count": 26,
      "outputs": [
        {
          "output_type": "stream",
          "name": "stdout",
          "text": [
            "0.8074191002367798\n"
          ]
        }
      ]
    },
    {
      "cell_type": "code",
      "source": [
        "news_headline = \"CA Exams 2021: Supreme Court asks ICAI to extend opt-out option for July exams, final order tomorrow\"\n",
        "data = cv.transform([news_headline]).toarray()\n",
        "print(model.predict(data))"
      ],
      "metadata": {
        "id": "qmZFHmcKK-Q1",
        "outputId": "a6b05eef-33ed-4946-a027-c050822a4487",
        "colab": {
          "base_uri": "https://localhost:8080/"
        }
      },
      "execution_count": 27,
      "outputs": [
        {
          "output_type": "stream",
          "name": "stdout",
          "text": [
            "['REAL']\n"
          ]
        }
      ]
    },
    {
      "cell_type": "code",
      "source": [
        "news_headline = \"Cow dung can cure Corona Virus\"\n",
        "data = cv.transform([news_headline]).toarray()\n",
        "print(model.predict(data))"
      ],
      "metadata": {
        "id": "uO0Vjz4lK-OO",
        "outputId": "deab27c3-237d-4773-e0e9-92867d772d73",
        "colab": {
          "base_uri": "https://localhost:8080/"
        }
      },
      "execution_count": 28,
      "outputs": [
        {
          "output_type": "stream",
          "name": "stdout",
          "text": [
            "['FAKE']\n"
          ]
        }
      ]
    },
    {
      "cell_type": "code",
      "source": [
        "news_headline = \"narendra modi is the current prime minisiter of india\"\n",
        "data = cv.transform([news_headline]).toarray()\n",
        "print(model.predict(data))"
      ],
      "metadata": {
        "id": "CtN5j38zK-Ly",
        "outputId": "a8023524-8387-46ca-ce87-8af4334b4612",
        "colab": {
          "base_uri": "https://localhost:8080/"
        }
      },
      "execution_count": 29,
      "outputs": [
        {
          "output_type": "stream",
          "name": "stdout",
          "text": [
            "['FAKE']\n"
          ]
        }
      ]
    }
  ],
  "metadata": {
    "colab": {
      "name": "Welcome To Colaboratory",
      "provenance": []
    },
    "kernelspec": {
      "display_name": "Python 3",
      "name": "python3"
    }
  },
  "nbformat": 4,
  "nbformat_minor": 0
}