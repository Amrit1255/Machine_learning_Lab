{
  "cells": [
    {
      "cell_type": "markdown",
      "source": [
        "Generate 100 points in two dimensions randomly. For example, (2, 3), (28, 13), …… Assign the point (x, y) in class 1 if x > y otherwise \n",
        "assign it in class 2. Implement all the classifiers given in No 6 above. Test the classifiers with any points."
      ],
      "metadata": {
        "id": "55aESXW2ItGW"
      }
    },
    {
      "cell_type": "code",
      "source": [
        "import numpy as np\n",
        "import pandas as pd\n",
        "import matplotlib.pyplot as plt\n",
        "import random"
      ],
      "metadata": {
        "id": "avtirwAEJDo-"
      },
      "execution_count": 2,
      "outputs": []
    },
    {
      "cell_type": "code",
      "source": [
        "points = [(random.uniform(0, 30), random.uniform(0, 30)) for i in range(100)]"
      ],
      "metadata": {
        "id": "gDrBxV9jJJjR"
      },
      "execution_count": 3,
      "outputs": []
    },
    {
      "cell_type": "code",
      "source": [
        "classes = [1 if x > y else 2 for (x, y) in points]"
      ],
      "metadata": {
        "id": "ui11bx1dJJg0"
      },
      "execution_count": 4,
      "outputs": []
    },
    {
      "cell_type": "code",
      "source": [
        "from sklearn import svm, neural_network, naive_bayes, tree, ensemble\n",
        "from sklearn.model_selection import train_test_split"
      ],
      "metadata": {
        "id": "lY_c_N-fJJeb"
      },
      "execution_count": 5,
      "outputs": []
    },
    {
      "cell_type": "code",
      "source": [
        "X_train, X_test, y_train, y_test = train_test_split(points, classes, test_size=0.3, random_state=42)"
      ],
      "metadata": {
        "id": "ICt9tF90JJcC"
      },
      "execution_count": 6,
      "outputs": []
    },
    {
      "cell_type": "code",
      "source": [
        "svm_clf = svm.SVC(kernel='linear')\n",
        "svm_clf.fit(X_train, y_train)\n",
        "svm_acc = svm_clf.score(X_test, y_test)\n",
        "print(\"SVM accuracy:\", svm_acc)"
      ],
      "metadata": {
        "id": "Kxdyn8iJJJZq",
        "outputId": "c17f0e1b-4dd7-4811-cb80-733045b89436",
        "colab": {
          "base_uri": "https://localhost:8080/"
        }
      },
      "execution_count": 7,
      "outputs": [
        {
          "output_type": "stream",
          "name": "stdout",
          "text": [
            "SVM accuracy: 1.0\n"
          ]
        }
      ]
    },
    {
      "cell_type": "code",
      "source": [
        "nn_clf = neural_network.MLPClassifier(hidden_layer_sizes=(10,2))\n",
        "nn_clf.fit(X_train, y_train)\n",
        "nn_acc = nn_clf.score(X_test, y_test)\n",
        "print(\"Neural network accuracy:\", nn_acc)"
      ],
      "metadata": {
        "id": "q8w1MRNkJJXb",
        "outputId": "7624eeb8-4f33-43e8-959f-4c92fd9be903",
        "colab": {
          "base_uri": "https://localhost:8080/"
        }
      },
      "execution_count": 8,
      "outputs": [
        {
          "output_type": "stream",
          "name": "stdout",
          "text": [
            "Neural network accuracy: 0.5333333333333333\n"
          ]
        },
        {
          "output_type": "stream",
          "name": "stderr",
          "text": [
            "/usr/local/lib/python3.10/dist-packages/sklearn/neural_network/_multilayer_perceptron.py:686: ConvergenceWarning: Stochastic Optimizer: Maximum iterations (200) reached and the optimization hasn't converged yet.\n",
            "  warnings.warn(\n"
          ]
        }
      ]
    },
    {
      "cell_type": "code",
      "source": [
        "nb_clf = naive_bayes.GaussianNB()\n",
        "nb_clf.fit(X_train, y_train)\n",
        "nb_acc = nb_clf.score(X_test, y_test)\n",
        "print(\"Naive Bayes accuracy:\", nb_acc)"
      ],
      "metadata": {
        "id": "HQLWj-kHJVTC",
        "outputId": "1cbaa496-44b5-49e3-a690-9f171061774a",
        "colab": {
          "base_uri": "https://localhost:8080/"
        }
      },
      "execution_count": 9,
      "outputs": [
        {
          "output_type": "stream",
          "name": "stdout",
          "text": [
            "Naive Bayes accuracy: 1.0\n"
          ]
        }
      ]
    },
    {
      "cell_type": "code",
      "source": [
        "dt_clf = tree.DecisionTreeClassifier()\n",
        "dt_clf.fit(X_train, y_train)\n",
        "dt_acc = dt_clf.score(X_test, y_test)\n",
        "print(\"Decision tree accuracy:\", dt_acc)"
      ],
      "metadata": {
        "id": "yvWTUIiFJVQU",
        "outputId": "aceece6a-be2f-4871-ae2a-a2c8333d1bd0",
        "colab": {
          "base_uri": "https://localhost:8080/"
        }
      },
      "execution_count": 10,
      "outputs": [
        {
          "output_type": "stream",
          "name": "stdout",
          "text": [
            "Decision tree accuracy: 0.9666666666666667\n"
          ]
        }
      ]
    },
    {
      "cell_type": "code",
      "source": [
        "rf_clf = ensemble.RandomForestClassifier(n_estimators=100)\n",
        "rf_clf.fit(X_train, y_train)\n",
        "rf_acc = rf_clf.score(X_test, y_test)\n",
        "print(\"Random forest accuracy:\", rf_acc)"
      ],
      "metadata": {
        "id": "o5yJ6MtcJbST",
        "outputId": "dbed189f-cacd-4f61-8c22-59abbddfffbe",
        "colab": {
          "base_uri": "https://localhost:8080/"
        }
      },
      "execution_count": 11,
      "outputs": [
        {
          "output_type": "stream",
          "name": "stdout",
          "text": [
            "Random forest accuracy: 0.9666666666666667\n"
          ]
        }
      ]
    },
    {
      "cell_type": "code",
      "source": [
        "new_points = [(random.uniform(0, 30), random.uniform(0, 30)) for i in range(10)]"
      ],
      "metadata": {
        "id": "XTD2wSpHJbPb"
      },
      "execution_count": 12,
      "outputs": []
    },
    {
      "cell_type": "code",
      "source": [
        "svm_pred = svm_clf.predict(new_points)\n",
        "nn_pred = nn_clf.predict(new_points)\n",
        "nb_pred = nb_clf.predict(new_points)\n",
        "dt_pred = dt_clf.predict(new_points)\n",
        "rf_pred = rf_clf.predict(new_points)"
      ],
      "metadata": {
        "id": "i-I-bwWOJfKF"
      },
      "execution_count": 13,
      "outputs": []
    },
    {
      "cell_type": "code",
      "source": [
        "print(\"New points:\", new_points)\n",
        "print(\"SVM predictions:\", svm_pred)\n",
        "print(\"Neural network predictions:\", nn_pred)\n",
        "print(\"Naive Bayes predictions:\", nb_pred)\n",
        "print(\"Decision tree predictions:\", dt_pred)\n",
        "print(\"Random forest predictions:\", rf_pred)"
      ],
      "metadata": {
        "id": "RHSSwe0PJfHC",
        "outputId": "302c7e6f-ca83-4de3-ddb0-2a8b31405948",
        "colab": {
          "base_uri": "https://localhost:8080/"
        }
      },
      "execution_count": 14,
      "outputs": [
        {
          "output_type": "stream",
          "name": "stdout",
          "text": [
            "New points: [(23.747441844348387, 22.823648010218935), (23.047645024878644, 4.755397703335566), (16.871748764093077, 15.565152716663992), (22.633294337753412, 1.4163504780721614), (8.758016126226579, 20.617329799678036), (14.113075113764765, 7.817454002198048), (27.772889795280506, 24.79414645174164), (10.195779420874977, 9.697474036862365), (16.793785323279845, 15.25180812144659), (28.8905936945982, 2.2260544424742)]\n",
            "SVM predictions: [1 1 1 1 2 1 1 1 1 1]\n",
            "Neural network predictions: [2 2 2 2 2 2 2 2 2 2]\n",
            "Naive Bayes predictions: [2 1 2 1 2 1 2 1 2 1]\n",
            "Decision tree predictions: [1 1 1 1 2 1 1 1 1 1]\n",
            "Random forest predictions: [2 1 1 1 2 1 1 1 1 1]\n"
          ]
        }
      ]
    }
  ],
  "metadata": {
    "colab": {
      "name": "Welcome To Colaboratory",
      "toc_visible": true,
      "provenance": []
    },
    "kernelspec": {
      "display_name": "Python 3",
      "name": "python3"
    }
  },
  "nbformat": 4,
  "nbformat_minor": 0
}